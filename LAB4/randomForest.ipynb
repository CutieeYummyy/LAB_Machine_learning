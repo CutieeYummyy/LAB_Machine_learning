{
 "cells": [
  {
   "cell_type": "code",
   "execution_count": 1,
   "id": "0b46ab22-09cc-450b-96d8-07a86ae2657a",
   "metadata": {},
   "outputs": [
    {
     "name": "stdout",
     "output_type": "stream",
     "text": [
      "c:\\Users\\Admin\\AppData\\Local\\Programs\\Python\\Python312\\python.exe\n",
      "Accuracy: 60.0%\n"
     ]
    }
   ],
   "source": [
    "import nbformat\n",
    "import sys\n",
    "print(sys.executable)\n",
    "import numpy as np\n",
    "%run decisionTree.ipynb"
   ]
  },
  {
   "cell_type": "code",
   "execution_count": 2,
   "id": "01fad103-63c1-43d4-b66f-1719c85f16a6",
   "metadata": {},
   "outputs": [],
   "source": [
    "# hàm lấy các mẫu dữ liệu ngẫu nhiên trong đó các phần tử có thể lặp lại (trùng nhau)\n",
    "def bootstrap(X, y): # X là frame, y là series \n",
    "    n_sample = X.shape[0]\n",
    "    _id = np.random.choice(n_sample, n_sample, replace = True) # dạng mảng\n",
    "    return X.iloc[_id], y.iloc[_id] # phải hiểu tại sao iloc cho cả X và y? \n",
    "    # liên quan đến chỉ số X_train khi dùng train_test_split"
   ]
  },
  {
   "cell_type": "code",
   "execution_count": 3,
   "id": "f0431a38-54f4-442c-acc2-efd8c9fc37df",
   "metadata": {},
   "outputs": [],
   "source": [
    "class RandomForest:\n",
    "    def __init__(self, n_trees=5, max_depth=10, min_samples_split=2, n_features=None):\n",
    "        self.n_trees = n_trees  # số cây để đưa ra quyết định cho giá trị dự đoán\n",
    "        self.max_depth = max_depth\n",
    "        self.min_samples_split = min_samples_split\n",
    "        self.n_features = n_features\n",
    "        self.trees = [] # danh sách chứa các cây\n",
    "    def fit(self, X, y):  # X là DataFrame, y là Series\n",
    "        self.trees = []  # khởi tạo lại danh sách các cây\n",
    "        for i in range(self.n_trees):\n",
    "            # Tạo cây quyết định mới\n",
    "            tree = DecisionTreeClass(min_samples_split=self.min_samples_split, max_depth=self.max_depth, n_features=self.n_features)\n",
    "            # Tạo mẫu bootstrap cho X và y\n",
    "            X_sample, y_sample = bootstrap(X, y)\n",
    "            tree.fit(X_sample, y_sample)  # Huấn luyện cây\n",
    "            self.trees.append(tree)  # Thêm cây vào danh sách\n",
    "    def predict(self, X):  # X là DataFrame\n",
    "        # Lấy dự đoán từ từng cây\n",
    "        arr_pred = np.array([tree.predict(X) for tree in self.trees])  # Dự đoán theo cây\n",
    "        final_pred = []\n",
    "        for i in range(arr_pred.shape[1]):\n",
    "            sample_pred = arr_pred[:, i]  # Dự đoán cho từng mẫu\n",
    "            final_pred.append(most_value(pd.Series(sample_pred)))  # Lấy giá trị phổ biến nhất\n",
    "        return np.array(final_pred)  # Trả về giá trị dự đoán sau khi vote từ n cây"
   ]
  },
  {
   "cell_type": "code",
   "execution_count": 4,
   "id": "293d4fa5",
   "metadata": {},
   "outputs": [
    {
     "name": "stdout",
     "output_type": "stream",
     "text": [
      "Accuracy: 60.0%\n"
     ]
    }
   ],
   "source": [
    "print(f\"Accuracy: {accuracy(y_actual, y_pred)}%\")"
   ]
  }
 ],
 "metadata": {
  "kernelspec": {
   "display_name": "Python 3",
   "language": "python",
   "name": "python3"
  },
  "language_info": {
   "codemirror_mode": {
    "name": "ipython",
    "version": 3
   },
   "file_extension": ".py",
   "mimetype": "text/x-python",
   "name": "python",
   "nbconvert_exporter": "python",
   "pygments_lexer": "ipython3",
   "version": "3.12.4"
  }
 },
 "nbformat": 4,
 "nbformat_minor": 5
}
