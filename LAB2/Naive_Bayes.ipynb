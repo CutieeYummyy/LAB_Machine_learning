{
 "cells": [
  {
   "cell_type": "markdown",
   "id": "534317fc-8171-4d04-8578-2e72a1044c17",
   "metadata": {},
   "source": [
    "Câu 1: Phân phối Bernoulli và Multinomial"
   ]
  },
  {
   "cell_type": "markdown",
   "id": "76d3781c-fd56-42a9-b2b7-9999364c2892",
   "metadata": {},
   "source": [
    "Cho tập dữ liệu Education.csv [https://drive.google.com/file/d/1Gn6YWHXRuPbTUXY5HFxM5C_tJHuZxCka/view?usp=sharing]\n",
    "- Trong đó:\n",
    "    - Text: Chứa đoạn văn bản liên quan đến chủ đề giáo dục.\n",
    "    - Label: Chứa nhãn cảm xúc của văn bản [Tích cực (Positive)/Tiêu cực (Negative)].\n",
    "- Yêu cầu: Áp dụng thuật toán Naive Bayes (phân phối bernoulli và phân phối Multinomial) để dự đoán cảm xúc của văn bản là tích cực hay tiêu cực và so sánh kết quả của hai phân phối đó."
   ]
  },
  {
   "cell_type": "code",
   "execution_count": 86,
   "id": "03ee6d5d",
   "metadata": {},
   "outputs": [],
   "source": [
    "import numpy as np \n",
    "import pandas as pd\n",
    "from sklearn.model_selection import train_test_split\n",
    "from sklearn.metrics import accuracy_score, classification_report, f1_score\n",
    "from sklearn.feature_extraction.text import CountVectorizer\n",
    "from sklearn.naive_bayes import BernoulliNB, MultinomialNB ,GaussianNB"
   ]
  },
  {
   "cell_type": "code",
   "execution_count": 87,
   "id": "51c13395",
   "metadata": {},
   "outputs": [
    {
     "name": "stdout",
     "output_type": "stream",
     "text": [
      "                                                Text     Label\n",
      "0  The impact of educational reforms remains unce...  positive\n",
      "1  Critics argue that recent improvements in the ...  negative\n",
      "2  Innovative teaching methods have led to unexpe...  positive\n",
      "3  Despite budget constraints, the school has man...  positive\n",
      "4  The true effectiveness of online learning plat...  negative\n"
     ]
    }
   ],
   "source": [
    "data = pd.read_csv(r\"T:\\20242025\\machinelearning\\Data\\Education.csv\")\n",
    "print(data.head())"
   ]
  },
  {
   "cell_type": "code",
   "execution_count": 88,
   "id": "27fc85e2",
   "metadata": {},
   "outputs": [
    {
     "name": "stdout",
     "output_type": "stream",
     "text": [
      "['the impact of educational reforms remains uncertain despite extensive research.'\n",
      " 'critics argue that recent improvements in the school system are merely superficial.'\n",
      " 'innovative teaching methods have led to unexpected challenges for both students and teachers.'\n",
      " 'despite budget constraints, the school has managed to maintain a high level of academic excellence.'\n",
      " 'the true effectiveness of online learning platforms is still a matter of debate among educators.'\n",
      " 'the role of standardized testing in education remains a contentious issue.'\n",
      " 'school curricula should focus more on practical skills and less on theoretical knowledge.'\n",
      " 'educational technology has the potential to revolutionize learning, but it also poses risks.'\n",
      " 'charter schools offer alternatives to traditional education, but their effectiveness is debated.'\n",
      " 'teacher tenure policies aim to protect educators, but they also hinder accountability.'\n",
      " 'special education programs strive to support diverse learners, but funding often falls short.'\n",
      " 'early childhood education lays the foundation for lifelong learning, yet it faces funding challenges.'\n",
      " 'higher education should prioritize critical thinking skills over rote memorization.'\n",
      " 'online learning platforms provide flexibility, but they lack the personal interaction of traditional classrooms.'\n",
      " 'education funding disparities perpetuate inequalities in access and opportunity.'\n",
      " \"standardized curricula limit teachers' creativity and flexibility in the classroom.\"\n",
      " 'the emphasis on testing leads to a narrow focus on exam preparation at the expense of holistic learning.'\n",
      " 'privatization efforts in education prioritize profit over student well-being.'\n",
      " 'resource allocation in schools often favors affluent communities over marginalized ones.'\n",
      " 'educational policies fail to address the diverse needs of students from different backgrounds.'\n",
      " 'charter schools divert resources from public education and exacerbate inequalities.'\n",
      " \"teacher evaluations based on student test scores undermine the profession's integrity.\"\n",
      " 'the reliance on technology in education leads to increased screen time and decreased social interaction.'\n",
      " 'education reform efforts often neglect input from educators and students.'\n",
      " 'budget cuts in education result in larger class sizes and fewer resources for students.'\n",
      " 'standardized testing perpetuates a culture of competition rather than collaboration.'\n",
      " 'educators should receive more support and recognition for their crucial role in society.'\n",
      " \"critical thinking skills are essential for navigating today's complex world.\"\n",
      " 'project-based learning fosters creativity and engagement among students.'\n",
      " 'access to quality education should be a universal right, not a privilege.'\n",
      " 'education policies should be informed by research and best practices.'\n",
      " 'teacher diversity is important for promoting inclusivity and cultural competence.'\n",
      " 'education should empower students to become lifelong learners and critical thinkers.'\n",
      " \"standardized tests fail to capture the full range of students' abilities and potential.\"\n",
      " 'educational standards should be flexible to accommodate diverse learning styles.'\n",
      " 'the focus on standardized testing narrows the curriculum and stifles creativity.'\n",
      " 'privatization of education leads to disparities in access and quality.'\n",
      " 'underfunded schools struggle to provide adequate resources and support for students.'\n",
      " 'educational technology can be isolating and impersonal, hindering meaningful connections.'\n",
      " 'public education should be funded adequately to ensure equity and excellence.'\n",
      " 'standardized testing perpetuates inequities by favoring students from privileged backgrounds.'\n",
      " 'educational initiatives often prioritize short-term gains over long-term sustainability.'\n",
      " 'teacher training programs should focus more on practical classroom strategies.'\n",
      " 'parental involvement is crucial for student success and academic achievement.'\n",
      " 'project-based learning encourages collaboration and problem-solving skills.'\n",
      " 'education should emphasize global citizenship and cultural awareness.'\n",
      " 'standardized tests create unnecessary stress and anxiety for students.'\n",
      " 'educational policies should be responsive to the needs and aspirations of diverse communities.'\n",
      " 'charter schools drain resources from public education and exacerbate segregation.'\n",
      " 'educational inequities persist despite efforts to bridge the gap.'\n",
      " 'online education offers flexibility but lacks the social interaction of traditional classrooms.'\n",
      " 'teacher evaluation systems should incorporate multiple measures of effectiveness.']\n",
      "<class 'numpy.ndarray'>\n",
      "[1 0 1 1 0 1 1 1 1 1 1 1 1 1 1 0 0 0 0 0 0 0 0 0 0 1 1 1 1 1 1 1 1 0 0 0 0\n",
      " 0 0 0 0 1 1 1 1 1 0 0 0 0 0 0]\n"
     ]
    }
   ],
   "source": [
    "# Tách dữ liệu thành features (text) và labels (nhãn)\n",
    "data[\"Text\"] = data[\"Text\"].str.lower()\n",
    "X = data[\"Text\"]\n",
    "X= np.array(X)\n",
    "print(X)\n",
    "y = data[\"Label\"].map({'positive': 1, 'negative': 0})\n",
    "y = np.array(y)\n",
    "print(type(y))\n",
    "print(y)"
   ]
  },
  {
   "cell_type": "code",
   "execution_count": 89,
   "id": "0e2836f8",
   "metadata": {},
   "outputs": [],
   "source": [
    "# Chia dữ liệu thành tập huấn luyện và tập kiểm tra\n",
    "X_train, X_test, y_train, y_test = train_test_split(X, y, test_size=0.2, random_state=42)\n",
    "\n",
    "# Vector hóa dữ liệu văn bản thành ma trận đếm\n",
    "vectorizer = CountVectorizer(binary=True)\n",
    "X_train_vec = vectorizer.fit_transform(X_train)\n",
    "X_test_vec = vectorizer.transform(X_test)\n",
    "\n",
    "# Huấn luyện mô hình Bernoulli Naive Bayes\n",
    "bernoulli_nb = BernoulliNB()\n",
    "bernoulli_nb.fit(X_train_vec, y_train)\n",
    "y_pred_bernoulli = bernoulli_nb.predict(X_test_vec)\n",
    "\n",
    "# Đo lường độ chính xác và F1-score của mô hình Bernoulli Naive Bayes\n",
    "accuracy_bernoulli = accuracy_score(y_test, y_pred_bernoulli)\n",
    "f1_bernoulli = f1_score(y_test, y_pred_bernoulli)\n",
    "\n",
    "# Huấn luyện mô hình Multinomial Naive Bayes\n",
    "multinomial_nb = MultinomialNB()\n",
    "multinomial_nb.fit(X_train_vec, y_train)\n",
    "y_pred_multinomial = multinomial_nb.predict(X_test_vec)\n",
    "\n",
    "# Đo lường độ chính xác và F1-score của mô hình Multinomial Naive Bayes\n",
    "accuracy_multinomial = accuracy_score(y_test, y_pred_multinomial)\n",
    "f1_multinomial = f1_score(y_test, y_pred_multinomial)"
   ]
  },
  {
   "cell_type": "code",
   "execution_count": 90,
   "id": "7226e567",
   "metadata": {},
   "outputs": [
    {
     "name": "stdout",
     "output_type": "stream",
     "text": [
      "Bernoulli Naive Bayes - Accuracy: 0.5454545454545454\n",
      "Bernoulli Naive Bayes - F1-score: 0.4444444444444444\n",
      "Multinomial Naive Bayes - Accuracy: 0.6363636363636364\n",
      "Multinomial Naive Bayes - F1-score: 0.6\n"
     ]
    }
   ],
   "source": [
    "# In kết quả\n",
    "print(\"Bernoulli Naive Bayes - Accuracy:\", accuracy_bernoulli)\n",
    "print(\"Bernoulli Naive Bayes - F1-score:\", f1_bernoulli)\n",
    "print(\"Multinomial Naive Bayes - Accuracy:\", accuracy_multinomial)\n",
    "print(\"Multinomial Naive Bayes - F1-score:\", f1_multinomial)"
   ]
  },
  {
   "cell_type": "markdown",
   "id": "2ddba7d5-909f-4def-9a45-60bf83f7741c",
   "metadata": {},
   "source": [
    "Câu 2: Phân phối Gaussian"
   ]
  },
  {
   "cell_type": "markdown",
   "id": "acdf8be6-a117-4c6f-9035-4edc4190f185",
   "metadata": {},
   "source": [
    "Cho tập dữ liệu Drug.csv [https://drive.google.com/file/d/1_G8oXkLlsauQkujZzJZJwibAWu5PgBXK/view?usp=sharing]\n",
    "- Trong đó:\n",
    "  - Age: Tuổi của bệnh nhân\n",
    "  - Sex: Giới tính của bệnh nhân\n",
    "  - BP: Mức huyết áp\n",
    "  - Cholesterol: Mức cholesterol trong máu\n",
    "  - Na_to_K: Tỷ lệ Natri và Kali trong máu\n",
    "  - Drug: Loại thuốc [A/B/C/X/Y]\n",
    "- Yêu cầu: Áp dụng thuật toán Naive Bayes (phân phối Gaussian) để dự đoán kết quả loại thuốc phù hợp với bệnh nhân."
   ]
  },
  {
   "cell_type": "code",
   "execution_count": 128,
   "id": "3bd8ce91-9d07-4213-aabb-c4696f3fd50d",
   "metadata": {},
   "outputs": [],
   "source": [
    "import numpy as np \n",
    "import pandas as pd\n",
    "from sklearn.model_selection import train_test_split\n",
    "from sklearn.metrics import accuracy_score, classification_report, f1_score\n",
    "from sklearn.feature_extraction.text import CountVectorizer\n",
    "from sklearn.naive_bayes import BernoulliNB, MultinomialNB, GaussianNB"
   ]
  },
  {
   "cell_type": "code",
   "execution_count": 129,
   "id": "2105ee06-30d0-45e7-a703-3535ea6fd195",
   "metadata": {},
   "outputs": [
    {
     "name": "stdout",
     "output_type": "stream",
     "text": [
      "   Age Sex      BP Cholesterol  Na_to_K   Drug\n",
      "0   23   F    HIGH        HIGH   25.355  DrugY\n",
      "1   47   M     LOW        HIGH   13.093  drugC\n",
      "2   47   M     LOW        HIGH   10.114  drugC\n",
      "3   28   F  NORMAL        HIGH    7.798  drugX\n",
      "4   61   F     LOW        HIGH   18.043  DrugY\n"
     ]
    }
   ],
   "source": [
    "data = pd.read_csv(r\"T:\\20242025\\machinelearning\\Data\\drug200.csv\")\n",
    "print(data.head())"
   ]
  },
  {
   "cell_type": "code",
   "execution_count": 130,
   "id": "69d5fc8b-7f0b-48bd-9d34-664942841b77",
   "metadata": {},
   "outputs": [],
   "source": [
    "# Chuyển cột \"Na_to_K\" và \"Drug\" của dữ liệu thành X\n",
    "y = data[[\"Drug\"]]\n",
    "# Đảm bảo rằng việc chuyển đổi giá trị của cột \"BP\" và \"Cholesterol\" thành số được thực hiện đúng\n",
    "b= data[\"BP\"].map({'NORMAL': 1, 'LOW': 0, 'HIGH': 2})\n",
    "a=data['Cholesterol'].map({'NORMAL': 1, 'HIGH': 0})\n",
    "X= np.column_stack((b, a))\n",
    "# Chia tập dữ liệu thành tập huấn luyện và tập kiểm tra\n",
    "X_train, X_test, y_train, y_test = train_test_split(X, y, test_size=0.2, random_state=42)\n"
   ]
  },
  {
   "cell_type": "code",
   "execution_count": 132,
   "id": "1da5a18b",
   "metadata": {},
   "outputs": [
    {
     "name": "stdout",
     "output_type": "stream",
     "text": [
      "Accuracy: 55.00%\n",
      "\n",
      "Classification Report:\n",
      "               precision    recall  f1-score   support\n",
      "\n",
      "       DrugY       0.50      0.47      0.48        15\n",
      "       drugA       0.40      1.00      0.57         6\n",
      "       drugB       0.00      0.00      0.00         3\n",
      "       drugC       0.83      1.00      0.91         5\n",
      "       drugX       0.80      0.36      0.50        11\n",
      "\n",
      "    accuracy                           0.55        40\n",
      "   macro avg       0.51      0.57      0.49        40\n",
      "weighted avg       0.57      0.55      0.52        40\n",
      "\n"
     ]
    },
    {
     "name": "stderr",
     "output_type": "stream",
     "text": [
      "c:\\Users\\Admin\\AppData\\Local\\Programs\\Python\\Python312\\Lib\\site-packages\\sklearn\\utils\\validation.py:1310: DataConversionWarning: A column-vector y was passed when a 1d array was expected. Please change the shape of y to (n_samples, ), for example using ravel().\n",
      "  y = column_or_1d(y, warn=True)\n",
      "c:\\Users\\Admin\\AppData\\Local\\Programs\\Python\\Python312\\Lib\\site-packages\\sklearn\\metrics\\_classification.py:1517: UndefinedMetricWarning: Precision is ill-defined and being set to 0.0 in labels with no predicted samples. Use `zero_division` parameter to control this behavior.\n",
      "  _warn_prf(average, modifier, f\"{metric.capitalize()} is\", len(result))\n",
      "c:\\Users\\Admin\\AppData\\Local\\Programs\\Python\\Python312\\Lib\\site-packages\\sklearn\\metrics\\_classification.py:1517: UndefinedMetricWarning: Precision is ill-defined and being set to 0.0 in labels with no predicted samples. Use `zero_division` parameter to control this behavior.\n",
      "  _warn_prf(average, modifier, f\"{metric.capitalize()} is\", len(result))\n",
      "c:\\Users\\Admin\\AppData\\Local\\Programs\\Python\\Python312\\Lib\\site-packages\\sklearn\\metrics\\_classification.py:1517: UndefinedMetricWarning: Precision is ill-defined and being set to 0.0 in labels with no predicted samples. Use `zero_division` parameter to control this behavior.\n",
      "  _warn_prf(average, modifier, f\"{metric.capitalize()} is\", len(result))\n"
     ]
    }
   ],
   "source": [
    "# Initialize the Gaussian Naive Bayes model\n",
    "gnb = GaussianNB()\n",
    "\n",
    "# Train the model on the training data\n",
    "gnb.fit(X_train, y_train)\n",
    "\n",
    "# Make predictions on the testing data\n",
    "y_pred = gnb.predict(X_test)\n",
    "\n",
    "# Evaluate the model's performance\n",
    "accuracy = accuracy_score(y_test, y_pred)\n",
    "report = classification_report(y_test, y_pred)\n",
    "\n",
    "# Output the results\n",
    "print(f\"Accuracy: {accuracy * 100:.2f}%\")\n",
    "print(\"\\nClassification Report:\\n\", report)"
   ]
  }
 ],
 "metadata": {
  "kernelspec": {
   "display_name": "Python 3 (ipykernel)",
   "language": "python",
   "name": "python3"
  },
  "language_info": {
   "codemirror_mode": {
    "name": "ipython",
    "version": 3
   },
   "file_extension": ".py",
   "mimetype": "text/x-python",
   "name": "python",
   "nbconvert_exporter": "python",
   "pygments_lexer": "ipython3",
   "version": "3.12.4"
  }
 },
 "nbformat": 4,
 "nbformat_minor": 5
}
